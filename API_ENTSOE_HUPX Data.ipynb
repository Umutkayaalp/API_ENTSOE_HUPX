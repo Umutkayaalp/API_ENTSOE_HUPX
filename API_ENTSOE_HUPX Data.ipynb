{
 "cells": [
  {
   "cell_type": "markdown",
   "metadata": {},
   "source": [
    "pip install entsoe-py - run this code you havent dowloaded library yet"
   ]
  },
  {
   "cell_type": "markdown",
   "metadata": {},
   "source": [
    "for insert your API key - go to get API Key (https://transparency.entsoe.eu/usrm/user/myAccountSettings)"
   ]
  },
  {
   "cell_type": "code",
   "execution_count": 1,
   "metadata": {},
   "outputs": [
    {
     "name": "stderr",
     "output_type": "stream",
     "text": [
      "C:\\Users\\Umut Asilkefeli\\anaconda3\\lib\\site-packages\\pandas\\core\\arrays\\masked.py:60: UserWarning: Pandas requires version '1.3.6' or newer of 'bottleneck' (version '1.3.5' currently installed).\n",
      "  from pandas.core import (\n"
     ]
    }
   ],
   "source": [
    "from entsoe import EntsoePandasClient\n",
    "import pandas as pd\n",
    "\n",
    "api_key = \"e5b96d49-a2c2-4309-a9f6-1ea5e6e236f1\"\n",
    "client = EntsoePandasClient(api_key=api_key)\n"
   ]
  },
  {
   "cell_type": "code",
   "execution_count": 2,
   "metadata": {},
   "outputs": [
    {
     "name": "stdout",
     "output_type": "stream",
     "text": [
      "Energy prices saved as hungary_energy_prices.csv\n"
     ]
    }
   ],
   "source": [
    "# write time peiod here \n",
    "start_dt = pd.Timestamp('2025-01-01', tz='Europe/Rome')\n",
    "end_dt = pd.Timestamp('2025-02-01', tz='Europe/Rome')\n",
    "\n",
    "energy_prices = client.query_day_ahead_prices(country_code='10YHU-MAVIR----U', start=start_dt, end=end_dt)\n",
    "\n",
    "# Save as CSV\n",
    "file_name = \"hungary_energy_prices.csv\"\n",
    "energy_prices.to_csv(file_name, index=True)\n",
    "\n",
    "print(f\"Energy prices saved as {file_name}\")\n"
   ]
  },
  {
   "cell_type": "code",
   "execution_count": null,
   "metadata": {},
   "outputs": [],
   "source": [
    "convert to hourly csv file - 15 mins data duplicating"
   ]
  },
  {
   "cell_type": "code",
   "execution_count": 7,
   "metadata": {},
   "outputs": [
    {
     "name": "stderr",
     "output_type": "stream",
     "text": [
      "C:\\Users\\Umut Asilkefeli\\AppData\\Local\\Temp\\ipykernel_13784\\3003766102.py:2: FutureWarning: 'T' is deprecated and will be removed in a future version, please use 'min' instead.\n",
      "  energy_prices_15min = energy_prices.resample('15T').ffill()\n"
     ]
    }
   ],
   "source": [
    "# Resample hourly data to 15-minute intervals (duplicating the hourly values)\n",
    "energy_prices_15min = energy_prices.resample('15T').ffill()"
   ]
  },
  {
   "cell_type": "code",
   "execution_count": 8,
   "metadata": {},
   "outputs": [
    {
     "name": "stdout",
     "output_type": "stream",
     "text": [
      "15-minute energy prices saved as hungary_energy_prices_15min.csv\n"
     ]
    }
   ],
   "source": [
    "# Save as CSV\n",
    "file_name = \"hungary_energy_prices_15min.csv\"\n",
    "energy_prices_15min.to_csv(file_name, index=True)\n",
    "print(f\"15-minute energy prices saved as {file_name}\")"
   ]
  }
 ],
 "metadata": {
  "kernelspec": {
   "display_name": "Python 3 (ipykernel)",
   "language": "python",
   "name": "python3"
  },
  "language_info": {
   "codemirror_mode": {
    "name": "ipython",
    "version": 3
   },
   "file_extension": ".py",
   "mimetype": "text/x-python",
   "name": "python",
   "nbconvert_exporter": "python",
   "pygments_lexer": "ipython3",
   "version": "3.10.9"
  }
 },
 "nbformat": 4,
 "nbformat_minor": 2
}
